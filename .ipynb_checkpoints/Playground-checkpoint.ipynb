{
 "cells": [
  {
   "cell_type": "code",
   "execution_count": null,
   "id": "2dc0ba39-1b2c-4349-9b3c-14f316e866ad",
   "metadata": {},
   "outputs": [],
   "source": [
    "from Environment import Environment\n",
    "\n",
    "size = (3,3)\n",
    "goal_reward = 10\n",
    "punishment = -10\n",
    "time_penalty = -1\n",
    "outOfBoundsList = []\n",
    "goalList = [(1,1)]\n",
    "\n",
    "env = Environment(size,goal_reward,punishment,time_penalty,outOfBoundsList,goalList)\n",
    "env.display()"
   ]
  },
  {
   "cell_type": "code",
   "execution_count": null,
   "id": "f17485e2-413c-45ae-89fc-f193de257015",
   "metadata": {
    "jupyter": {
     "source_hidden": true
    }
   },
   "outputs": [],
   "source": [
    "from Environment import Environment\n",
    "\n",
    "size = (4,4)\n",
    "goal_reward = 10\n",
    "punishment = -10\n",
    "time_penalty = -1\n",
    "outOfBoundsList = [(0,1),(1,1)]\n",
    "goalList = [(3,3)]\n",
    "\n",
    "env = Environment(size,goal_reward,punishment,time_penalty,outOfBoundsList,goalList)\n",
    "env.display()"
   ]
  },
  {
   "cell_type": "code",
   "execution_count": null,
   "id": "e2ddef0a-3bef-4bc4-a5a8-f71676874bbd",
   "metadata": {},
   "outputs": [],
   "source": [
    "from Agents import DDPGAgent\n",
    "# The State gives the Cartesian coordinates for both Position and Velocity\n",
    "# State: [px,py,vx,vy]\n",
    "state_dim = 4\n",
    "# The action is the proposed acceleration\n",
    "# Action: a\n",
    "action_dim = 9\n",
    "\n",
    "agent = DDPGAgent(state_dim, action_dim, tau = .00001, gamma = .99)"
   ]
  },
  {
   "cell_type": "code",
   "execution_count": null,
   "id": "a558cde5-4f6c-4fcd-875a-3a0f87f53dd1",
   "metadata": {},
   "outputs": [],
   "source": [
    "from Engine import Engine\n",
    "engine = Engine(env,agent)"
   ]
  },
  {
   "cell_type": "code",
   "execution_count": null,
   "id": "e45b059e-fcc3-4d88-bb23-944873176c32",
   "metadata": {},
   "outputs": [],
   "source": [
    "metrics = engine.explore_train(batch_size=100000,trials=100)"
   ]
  },
  {
   "cell_type": "code",
   "execution_count": null,
   "id": "f25948ea-4159-4208-b77c-12650782f306",
   "metadata": {},
   "outputs": [],
   "source": [
    "explore_prob = .2\n",
    "metrics = engine.train(explore_prob, limit = 20, buffer_cap = 10000, trials = 100)"
   ]
  },
  {
   "cell_type": "code",
   "execution_count": null,
   "id": "a108894c-e610-41bd-b620-1d146dbced29",
   "metadata": {},
   "outputs": [],
   "source": [
    "states,actions,next_states,rewards,dones = engine.run(init_state = [2,2,0,0],explore_prob=0)\n",
    "print(next_states)\n",
    "print(actions)\n",
    "print(rewards)"
   ]
  }
 ],
 "metadata": {
  "kernelspec": {
   "display_name": "Python 3 (ipykernel)",
   "language": "python",
   "name": "python3"
  },
  "language_info": {
   "codemirror_mode": {
    "name": "ipython",
    "version": 3
   },
   "file_extension": ".py",
   "mimetype": "text/x-python",
   "name": "python",
   "nbconvert_exporter": "python",
   "pygments_lexer": "ipython3",
   "version": "3.10.12"
  }
 },
 "nbformat": 4,
 "nbformat_minor": 5
}
