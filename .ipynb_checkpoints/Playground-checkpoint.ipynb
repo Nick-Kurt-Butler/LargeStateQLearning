{
 "cells": [
  {
   "cell_type": "code",
   "execution_count": null,
   "id": "2dc0ba39-1b2c-4349-9b3c-14f316e866ad",
   "metadata": {},
   "outputs": [],
   "source": [
    "from Environment import Environment\n",
    "\n",
    "size = (3,3)\n",
    "goal_reward = 10\n",
    "punishment = -10\n",
    "time_penalty = -1\n",
    "outOfBoundsList = []\n",
    "goalList = [(1,1)]\n",
    "\n",
    "env = Environment(size,goal_reward,punishment,time_penalty,outOfBoundsList,goalList)\n",
    "env.display()"
   ]
  },
  {
   "cell_type": "code",
   "execution_count": 1,
   "id": "f17485e2-413c-45ae-89fc-f193de257015",
   "metadata": {},
   "outputs": [
    {
     "data": {
      "text/plain": [
       "<matplotlib.image.AxesImage at 0x7fa256a8d840>"
      ]
     },
     "execution_count": 1,
     "metadata": {},
     "output_type": "execute_result"
    },
    {
     "data": {
      "image/png": "[encoded data removed]",
      "text/plain": [
       "<Figure size 640x480 with 1 Axes>"
      ]
     },
     "metadata": {},
     "output_type": "display_data"
    }
   ],
   "source": [
    "from Environment import Environment\n",
    "\n",
    "size = (4,4)\n",
    "goal_reward = 10\n",
    "punishment = -10\n",
    "time_penalty = -1\n",
    "outOfBoundsList = [(0,1),(1,1)]\n",
    "goalList = [(3,3)]\n",
    "\n",
    "env = Environment(size,goal_reward,punishment,time_penalty,outOfBoundsList,goalList)\n",
    "env.display()"
   ]
  },
  {
   "cell_type": "code",
   "execution_count": 2,
   "id": "e2ddef0a-3bef-4bc4-a5a8-f71676874bbd",
   "metadata": {
    "collapsed": true,
    "jupyter": {
     "outputs_hidden": true
    }
   },
   "outputs": [
    {
     "name": "stderr",
     "output_type": "stream",
     "text": [
      "2023-10-27 10:54:00.948277: I tensorflow/tsl/cuda/cudart_stub.cc:28] Could not find cuda drivers on your machine, GPU will not be used.\n",
      "2023-10-27 10:54:01.005946: E tensorflow/compiler/xla/stream_executor/cuda/cuda_dnn.cc:9342] Unable to register cuDNN factory: Attempting to register factory for plugin cuDNN when one has already been registered\n",
      "2023-10-27 10:54:01.005976: E tensorflow/compiler/xla/stream_executor/cuda/cuda_fft.cc:609] Unable to register cuFFT factory: Attempting to register factory for plugin cuFFT when one has already been registered\n",
      "2023-10-27 10:54:01.006012: E tensorflow/compiler/xla/stream_executor/cuda/cuda_blas.cc:1518] Unable to register cuBLAS factory: Attempting to register factory for plugin cuBLAS when one has already been registered\n",
      "2023-10-27 10:54:01.014683: I tensorflow/tsl/cuda/cudart_stub.cc:28] Could not find cuda drivers on your machine, GPU will not be used.\n",
      "2023-10-27 10:54:01.014987: I tensorflow/core/platform/cpu_feature_guard.cc:182] This TensorFlow binary is optimized to use available CPU instructions in performance-critical operations.\n",
      "To enable the following instructions: AVX2 FMA, in other operations, rebuild TensorFlow with the appropriate compiler flags.\n",
      "2023-10-27 10:54:02.243315: W tensorflow/compiler/tf2tensorrt/utils/py_utils.cc:38] TF-TRT Warning: Could not find TensorRT\n"
     ]
    }
   ],
   "source": [
    "from Agents import DDPGAgent\n",
    "# The State gives the Cartesian coordinates for both Position and Velocity\n",
    "# State: [px,py,vx,vy]\n",
    "state_dim = 4\n",
    "# The action is the proposed acceleration\n",
    "# Action: a\n",
    "action_dim = 9\n",
    "\n",
    "agent = DDPGAgent(state_dim, action_dim, tau = .00001, gamma = .99)"
   ]
  },
  {
   "cell_type": "code",
   "execution_count": 3,
   "id": "a558cde5-4f6c-4fcd-875a-3a0f87f53dd1",
   "metadata": {},
   "outputs": [],
   "source": [
    "from Engine import Engine\n",
    "engine = Engine(env,agent)"
   ]
  },
  {
   "cell_type": "code",
   "execution_count": 4,
   "id": "2497732c-a41d-45e1-8b05-cdb0dd27cc7a",
   "metadata": {},
   "outputs": [
    {
     "name": "stdout",
     "output_type": "stream",
     "text": [
      "Epoch: 0, Avg Reward:-17.77, Actor Loss:0.10346780717372894, Critic Loss:71.37940216064453\n",
      "Epoch: 1, Avg Reward:-19.33, Actor Loss:0.19889916479587555, Critic Loss:71.80033874511719\n",
      "Epoch: 2, Avg Reward:-19.03, Actor Loss:0.2893018424510956, Critic Loss:67.72650909423828\n",
      "Epoch: 3, Avg Reward:-22.01, Actor Loss:0.3871873915195465, Critic Loss:69.04146575927734\n",
      "Epoch: 4, Avg Reward:-29.67, Actor Loss:0.4714224636554718, Critic Loss:72.08509063720703\n",
      "Epoch: 5, Avg Reward:-29.72, Actor Loss:0.5650836229324341, Critic Loss:70.8695297241211\n",
      "Epoch: 6, Avg Reward:-31.68, Actor Loss:0.6590938568115234, Critic Loss:72.50464630126953\n",
      "Epoch: 7, Avg Reward:-30.68, Actor Loss:0.7465049624443054, Critic Loss:69.60079193115234\n",
      "Epoch: 8, Avg Reward:-30.3, Actor Loss:0.8473498225212097, Critic Loss:66.96678924560547\n",
      "Epoch: 9, Avg Reward:-31.19, Actor Loss:0.9506629109382629, Critic Loss:65.88238525390625\n",
      "Epoch: 10, Avg Reward:-30.72, Actor Loss:1.0595968961715698, Critic Loss:63.7171630859375\n",
      "Epoch: 11, Avg Reward:-29.72, Actor Loss:1.1695507764816284, Critic Loss:61.96030044555664\n",
      "Epoch: 12, Avg Reward:-25.82, Actor Loss:1.266722321510315, Critic Loss:58.32858657836914\n",
      "Epoch: 13, Avg Reward:-25.7, Actor Loss:1.3861638307571411, Critic Loss:56.896888732910156\n",
      "Epoch: 14, Avg Reward:-21.95, Actor Loss:1.5406696796417236, Critic Loss:52.56691360473633\n",
      "Epoch: 15, Avg Reward:-22.22, Actor Loss:1.681156873703003, Critic Loss:49.90094757080078\n",
      "Epoch: 16, Avg Reward:-17.63, Actor Loss:1.7827539443969727, Critic Loss:43.267024993896484\n",
      "Epoch: 17, Avg Reward:-19.06, Actor Loss:1.9364949464797974, Critic Loss:43.24351119995117\n",
      "Epoch: 18, Avg Reward:-11.37, Actor Loss:1.9995028972625732, Critic Loss:36.02809143066406\n",
      "Epoch: 19, Avg Reward:-11.34, Actor Loss:2.147594451904297, Critic Loss:35.82766342163086\n",
      "Epoch: 20, Avg Reward:-11.26, Actor Loss:2.307366132736206, Critic Loss:35.68525314331055\n",
      "Epoch: 21, Avg Reward:-11.36, Actor Loss:2.475886821746826, Critic Loss:34.26985549926758\n",
      "Epoch: 22, Avg Reward:-11.29, Actor Loss:2.650409460067749, Critic Loss:33.45170593261719\n",
      "Epoch: 23, Avg Reward:-11.35, Actor Loss:2.8249592781066895, Critic Loss:32.23160171508789\n",
      "Epoch: 24, Avg Reward:-11.34, Actor Loss:3.017672538757324, Critic Loss:31.5202693939209\n",
      "Epoch: 25, Avg Reward:-11.37, Actor Loss:3.2273738384246826, Critic Loss:30.230384826660156\n",
      "Epoch: 26, Avg Reward:-11.37, Actor Loss:3.4529879093170166, Critic Loss:28.365156173706055\n",
      "Epoch: 27, Avg Reward:-11.34, Actor Loss:3.665239095687866, Critic Loss:27.609121322631836\n",
      "Epoch: 28, Avg Reward:-11.55, Actor Loss:3.915621042251587, Critic Loss:24.186735153198242\n",
      "Epoch: 29, Avg Reward:-11.57, Actor Loss:4.135687351226807, Critic Loss:23.68667221069336\n",
      "Epoch: 30, Avg Reward:-11.51, Actor Loss:4.353912353515625, Critic Loss:23.161500930786133\n",
      "Epoch: 31, Avg Reward:-11.54, Actor Loss:4.543689250946045, Critic Loss:23.044353485107422\n",
      "Epoch: 32, Avg Reward:-11.43, Actor Loss:4.75514554977417, Critic Loss:22.398113250732422\n",
      "Epoch: 33, Avg Reward:-11.49, Actor Loss:4.986070156097412, Critic Loss:22.0208797454834\n",
      "Epoch: 34, Avg Reward:-11.44, Actor Loss:5.2004923820495605, Critic Loss:22.021469116210938\n",
      "Epoch: 35, Avg Reward:-11.39, Actor Loss:5.367890357971191, Critic Loss:21.893449783325195\n",
      "Epoch: 36, Avg Reward:-11.43, Actor Loss:5.517559051513672, Critic Loss:21.548606872558594\n",
      "Epoch: 37, Avg Reward:-11.47, Actor Loss:5.631139278411865, Critic Loss:21.44578742980957\n",
      "Epoch: 38, Avg Reward:-11.34, Actor Loss:5.7385053634643555, Critic Loss:21.503387451171875\n",
      "Epoch: 39, Avg Reward:-11.41, Actor Loss:5.821415424346924, Critic Loss:21.41297721862793\n",
      "Epoch: 40, Avg Reward:-11.46, Actor Loss:5.864293575286865, Critic Loss:21.23284912109375\n",
      "Epoch: 41, Avg Reward:-11.47, Actor Loss:5.874225616455078, Critic Loss:21.223827362060547\n",
      "Epoch: 42, Avg Reward:-11.62, Actor Loss:5.897335052490234, Critic Loss:20.653818130493164\n",
      "Epoch: 43, Avg Reward:-11.61, Actor Loss:5.916481018066406, Critic Loss:20.65639305114746\n",
      "Epoch: 44, Avg Reward:-11.45, Actor Loss:5.852273464202881, Critic Loss:21.104829788208008\n",
      "Epoch: 45, Avg Reward:-11.47, Actor Loss:5.786384582519531, Critic Loss:20.646381378173828\n",
      "Epoch: 46, Avg Reward:-11.49, Actor Loss:5.7200927734375, Critic Loss:20.77215576171875\n",
      "Epoch: 47, Avg Reward:-11.44, Actor Loss:5.610771179199219, Critic Loss:20.26590919494629\n",
      "Epoch: 48, Avg Reward:-11.56, Actor Loss:5.540769577026367, Critic Loss:19.845535278320312\n",
      "Epoch: 49, Avg Reward:-11.53, Actor Loss:5.443735122680664, Critic Loss:19.3059024810791\n",
      "Epoch: 50, Avg Reward:-11.44, Actor Loss:5.366220474243164, Critic Loss:19.43748664855957\n",
      "Epoch: 51, Avg Reward:-11.37, Actor Loss:5.251880645751953, Critic Loss:20.77071762084961\n",
      "Epoch: 52, Avg Reward:-11.31, Actor Loss:5.188602924346924, Critic Loss:20.86929702758789\n",
      "Epoch: 53, Avg Reward:-11.34, Actor Loss:5.13050651550293, Critic Loss:20.251178741455078\n",
      "Epoch: 54, Avg Reward:-11.34, Actor Loss:5.069079399108887, Critic Loss:20.451881408691406\n",
      "Epoch: 55, Avg Reward:-11.32, Actor Loss:5.075095176696777, Critic Loss:20.365678787231445\n",
      "Epoch: 56, Avg Reward:-11.27, Actor Loss:5.070183753967285, Critic Loss:19.941877365112305\n",
      "Epoch: 57, Avg Reward:-11.34, Actor Loss:5.105724334716797, Critic Loss:19.544658660888672\n",
      "Epoch: 58, Avg Reward:-11.35, Actor Loss:5.117187976837158, Critic Loss:19.64531898498535\n",
      "Epoch: 59, Avg Reward:-11.34, Actor Loss:5.170856475830078, Critic Loss:19.199281692504883\n",
      "Epoch: 60, Avg Reward:-11.26, Actor Loss:5.2001237869262695, Critic Loss:19.12778663635254\n",
      "Epoch: 61, Avg Reward:-11.3, Actor Loss:5.2625041007995605, Critic Loss:18.874309539794922\n",
      "Epoch: 62, Avg Reward:-11.38, Actor Loss:5.344579696655273, Critic Loss:18.811059951782227\n",
      "Epoch: 63, Avg Reward:-11.35, Actor Loss:5.372654914855957, Critic Loss:18.58180046081543\n",
      "Epoch: 64, Avg Reward:-11.3, Actor Loss:5.408782005310059, Critic Loss:18.356624603271484\n",
      "Epoch: 65, Avg Reward:-11.26, Actor Loss:5.421800136566162, Critic Loss:17.20578956604004\n",
      "Epoch: 66, Avg Reward:-11.32, Actor Loss:5.4904022216796875, Critic Loss:16.97024154663086\n",
      "Epoch: 67, Avg Reward:-11.31, Actor Loss:5.54990291595459, Critic Loss:16.624364852905273\n",
      "Epoch: 68, Avg Reward:-11.23, Actor Loss:5.610644340515137, Critic Loss:16.836877822875977\n",
      "Epoch: 69, Avg Reward:-11.17, Actor Loss:5.6755805015563965, Critic Loss:17.022743225097656\n",
      "Epoch: 70, Avg Reward:-11.27, Actor Loss:5.742093086242676, Critic Loss:16.30177116394043\n",
      "Epoch: 71, Avg Reward:-11.26, Actor Loss:5.872387886047363, Critic Loss:17.906171798706055\n",
      "Epoch: 72, Avg Reward:-11.23, Actor Loss:5.805180549621582, Critic Loss:16.230384826660156\n",
      "Epoch: 73, Avg Reward:-11.25, Actor Loss:5.823322772979736, Critic Loss:15.744025230407715\n",
      "Epoch: 74, Avg Reward:-11.29, Actor Loss:5.800826072692871, Critic Loss:15.436089515686035\n",
      "Epoch: 75, Avg Reward:-11.23, Actor Loss:5.830102920532227, Critic Loss:15.888324737548828\n",
      "Epoch: 76, Avg Reward:-11.27, Actor Loss:5.805586338043213, Critic Loss:15.25195598602295\n",
      "Epoch: 77, Avg Reward:-11.29, Actor Loss:5.787405490875244, Critic Loss:14.97747802734375\n",
      "Epoch: 78, Avg Reward:-11.2, Actor Loss:5.785355567932129, Critic Loss:15.264053344726562\n",
      "Epoch: 79, Avg Reward:-11.29, Actor Loss:5.747406482696533, Critic Loss:14.68239688873291\n",
      "Epoch: 80, Avg Reward:-11.21, Actor Loss:5.733943939208984, Critic Loss:14.956903457641602\n",
      "Epoch: 81, Avg Reward:-11.33, Actor Loss:5.694997787475586, Critic Loss:14.43072509765625\n",
      "Epoch: 82, Avg Reward:-11.25, Actor Loss:5.701547622680664, Critic Loss:14.159049987792969\n",
      "Epoch: 83, Avg Reward:-11.26, Actor Loss:5.674468040466309, Critic Loss:14.247469902038574\n",
      "Epoch: 84, Avg Reward:-11.25, Actor Loss:5.6582536697387695, Critic Loss:14.062177658081055\n",
      "Epoch: 85, Avg Reward:-11.29, Actor Loss:5.635854721069336, Critic Loss:14.004283905029297\n",
      "Epoch: 86, Avg Reward:-11.3, Actor Loss:5.619421005249023, Critic Loss:13.647120475769043\n",
      "Epoch: 87, Avg Reward:-11.29, Actor Loss:5.6461405754089355, Critic Loss:13.622550010681152\n",
      "Epoch: 88, Avg Reward:-11.22, Actor Loss:5.68157958984375, Critic Loss:13.576812744140625\n",
      "Epoch: 89, Avg Reward:-11.26, Actor Loss:5.678565979003906, Critic Loss:13.27750015258789\n",
      "Epoch: 90, Avg Reward:-11.21, Actor Loss:5.703028678894043, Critic Loss:13.55355167388916\n",
      "Epoch: 91, Avg Reward:-11.27, Actor Loss:5.7243852615356445, Critic Loss:13.251062393188477\n",
      "Epoch: 92, Avg Reward:-11.28, Actor Loss:5.760628700256348, Critic Loss:12.879819869995117\n",
      "Epoch: 93, Avg Reward:-11.27, Actor Loss:5.813127040863037, Critic Loss:12.564924240112305\n",
      "Epoch: 94, Avg Reward:-11.23, Actor Loss:5.809373378753662, Critic Loss:12.884263038635254\n",
      "Epoch: 95, Avg Reward:-11.25, Actor Loss:5.796784400939941, Critic Loss:12.928972244262695\n",
      "Epoch: 96, Avg Reward:-11.31, Actor Loss:5.839639186859131, Critic Loss:12.52536392211914\n",
      "Epoch: 97, Avg Reward:-11.26, Actor Loss:5.795361042022705, Critic Loss:12.639684677124023\n",
      "Epoch: 98, Avg Reward:-11.21, Actor Loss:5.84619140625, Critic Loss:12.523001670837402\n",
      "Epoch: 99, Avg Reward:-11.22, Actor Loss:5.8269362449646, Critic Loss:12.548270225524902\n"
     ]
    }
   ],
   "source": [
    "explore_prob = .2\n",
    "metrics = engine.train(explore_prob, limit = 20, buffer_cap = 10000, trials = 100)"
   ]
  },
  {
   "cell_type": "code",
   "execution_count": 6,
   "id": "7a710b56-d1fa-40a5-96c3-e2bc949a189f",
   "metadata": {},
   "outputs": [
    {
     "name": "stdout",
     "output_type": "stream",
     "text": [
      "Epoch: 0, Avg Reward:-11.25, Actor Loss:5.823561191558838, Critic Loss:12.30667781829834\n",
      "Epoch: 1, Avg Reward:-11.3, Actor Loss:5.816268444061279, Critic Loss:11.99293327331543\n",
      "Epoch: 2, Avg Reward:-11.22, Actor Loss:5.817189693450928, Critic Loss:11.938331604003906\n",
      "Epoch: 3, Avg Reward:-11.33, Actor Loss:5.848043918609619, Critic Loss:11.875261306762695\n",
      "Epoch: 4, Avg Reward:-11.29, Actor Loss:5.807709217071533, Critic Loss:11.707929611206055\n",
      "Epoch: 5, Avg Reward:-11.23, Actor Loss:5.694246768951416, Critic Loss:12.715335845947266\n",
      "Epoch: 6, Avg Reward:-11.21, Actor Loss:5.760215759277344, Critic Loss:12.564069747924805\n",
      "Epoch: 7, Avg Reward:-11.21, Actor Loss:5.808834075927734, Critic Loss:12.228278160095215\n",
      "Epoch: 8, Avg Reward:-11.25, Actor Loss:5.873886585235596, Critic Loss:12.19182300567627\n",
      "Epoch: 9, Avg Reward:-11.15, Actor Loss:5.891297817230225, Critic Loss:12.933491706848145\n",
      "Epoch: 10, Avg Reward:-11.26, Actor Loss:5.973536491394043, Critic Loss:12.016088485717773\n",
      "Epoch: 11, Avg Reward:-11.22, Actor Loss:6.049596786499023, Critic Loss:11.95815372467041\n",
      "Epoch: 12, Avg Reward:-11.25, Actor Loss:6.084780693054199, Critic Loss:11.895858764648438\n",
      "Epoch: 13, Avg Reward:-11.25, Actor Loss:6.280499458312988, Critic Loss:11.295854568481445\n",
      "Epoch: 14, Avg Reward:-11.24, Actor Loss:6.2878007888793945, Critic Loss:11.457992553710938\n",
      "Epoch: 15, Avg Reward:-11.25, Actor Loss:6.134517669677734, Critic Loss:10.993234634399414\n",
      "Epoch: 16, Avg Reward:-11.28, Actor Loss:6.130311489105225, Critic Loss:11.202163696289062\n",
      "Epoch: 17, Avg Reward:-11.25, Actor Loss:6.055994987487793, Critic Loss:11.201343536376953\n",
      "Epoch: 18, Avg Reward:-11.23, Actor Loss:5.939664363861084, Critic Loss:11.203834533691406\n",
      "Epoch: 19, Avg Reward:-11.25, Actor Loss:5.895553112030029, Critic Loss:10.945598602294922\n",
      "Epoch: 20, Avg Reward:-11.29, Actor Loss:5.824950218200684, Critic Loss:10.7388277053833\n",
      "Epoch: 21, Avg Reward:-11.3, Actor Loss:5.750879287719727, Critic Loss:10.642134666442871\n",
      "Epoch: 22, Avg Reward:-11.26, Actor Loss:5.744019031524658, Critic Loss:10.869071960449219\n",
      "Epoch: 23, Avg Reward:-11.23, Actor Loss:5.764420509338379, Critic Loss:10.737003326416016\n",
      "Epoch: 24, Avg Reward:-11.31, Actor Loss:5.754566669464111, Critic Loss:10.36378002166748\n",
      "Epoch: 25, Avg Reward:-11.26, Actor Loss:5.742923259735107, Critic Loss:10.509681701660156\n",
      "Epoch: 26, Avg Reward:-11.21, Actor Loss:5.842637538909912, Critic Loss:10.554750442504883\n",
      "Epoch: 27, Avg Reward:-11.23, Actor Loss:5.863617420196533, Critic Loss:10.909480094909668\n",
      "Epoch: 28, Avg Reward:-11.24, Actor Loss:5.884526252746582, Critic Loss:10.50476360321045\n",
      "Epoch: 29, Avg Reward:-11.26, Actor Loss:5.9362287521362305, Critic Loss:10.536781311035156\n",
      "Epoch: 30, Avg Reward:-11.27, Actor Loss:5.94126033782959, Critic Loss:10.45128059387207\n",
      "Epoch: 31, Avg Reward:-11.29, Actor Loss:5.946292877197266, Critic Loss:10.355603218078613\n",
      "Epoch: 32, Avg Reward:-11.24, Actor Loss:5.975739479064941, Critic Loss:10.041977882385254\n",
      "Epoch: 33, Avg Reward:-11.24, Actor Loss:5.958197116851807, Critic Loss:10.589167594909668\n",
      "Epoch: 34, Avg Reward:-11.2, Actor Loss:5.933318138122559, Critic Loss:10.125259399414062\n",
      "Epoch: 35, Avg Reward:-11.21, Actor Loss:5.889703273773193, Critic Loss:10.289443016052246\n",
      "Epoch: 36, Avg Reward:-11.21, Actor Loss:5.857809066772461, Critic Loss:10.224051475524902\n",
      "Epoch: 37, Avg Reward:-11.24, Actor Loss:5.864196300506592, Critic Loss:10.123662948608398\n",
      "Epoch: 38, Avg Reward:-11.28, Actor Loss:5.85521936416626, Critic Loss:9.953742027282715\n",
      "Epoch: 39, Avg Reward:-11.2, Actor Loss:5.642561912536621, Critic Loss:11.54720401763916\n",
      "Epoch: 40, Avg Reward:-11.18, Actor Loss:5.695577144622803, Critic Loss:11.469608306884766\n",
      "Epoch: 41, Avg Reward:-11.12, Actor Loss:5.542973041534424, Critic Loss:15.474837303161621\n",
      "Epoch: 42, Avg Reward:-11.1, Actor Loss:5.46589994430542, Critic Loss:16.671499252319336\n",
      "Epoch: 43, Avg Reward:-11.1, Actor Loss:5.63808536529541, Critic Loss:16.019506454467773\n",
      "Epoch: 44, Avg Reward:-11.16, Actor Loss:5.953357696533203, Critic Loss:12.974508285522461\n",
      "Epoch: 45, Avg Reward:-11.27, Actor Loss:6.234531402587891, Critic Loss:11.253396034240723\n",
      "Epoch: 46, Avg Reward:-11.28, Actor Loss:6.195702075958252, Critic Loss:11.64139175415039\n",
      "Epoch: 47, Avg Reward:-11.25, Actor Loss:6.133800029754639, Critic Loss:11.437065124511719\n",
      "Epoch: 48, Avg Reward:-11.22, Actor Loss:6.047011852264404, Critic Loss:11.777371406555176\n",
      "Epoch: 49, Avg Reward:-11.15, Actor Loss:6.019607067108154, Critic Loss:11.72354507446289\n",
      "Epoch: 50, Avg Reward:-11.03, Actor Loss:6.026202201843262, Critic Loss:12.269526481628418\n",
      "Epoch: 51, Avg Reward:-10.96, Actor Loss:6.006749153137207, Critic Loss:13.177080154418945\n",
      "Epoch: 52, Avg Reward:-10.99, Actor Loss:6.057577133178711, Critic Loss:12.711187362670898\n",
      "Epoch: 53, Avg Reward:-11.09, Actor Loss:6.184513092041016, Critic Loss:10.922286033630371\n",
      "Epoch: 54, Avg Reward:-11.05, Actor Loss:6.261166572570801, Critic Loss:10.82150650024414\n",
      "Epoch: 55, Avg Reward:-11.02, Actor Loss:6.354646682739258, Critic Loss:10.933863639831543\n",
      "Epoch: 56, Avg Reward:-11.08, Actor Loss:6.4172210693359375, Critic Loss:10.139240264892578\n",
      "Epoch: 57, Avg Reward:-10.9, Actor Loss:6.601278781890869, Critic Loss:13.471540451049805\n",
      "Epoch: 58, Avg Reward:-10.85, Actor Loss:6.722471714019775, Critic Loss:13.142040252685547\n",
      "Epoch: 59, Avg Reward:-10.88, Actor Loss:6.833964824676514, Critic Loss:12.689326286315918\n",
      "Epoch: 60, Avg Reward:-10.93, Actor Loss:7.0023040771484375, Critic Loss:12.013198852539062\n",
      "Epoch: 61, Avg Reward:-10.93, Actor Loss:7.28942346572876, Critic Loss:11.662189483642578\n",
      "Epoch: 62, Avg Reward:-10.93, Actor Loss:7.383843898773193, Critic Loss:11.453961372375488\n",
      "Epoch: 63, Avg Reward:-10.95, Actor Loss:7.392251491546631, Critic Loss:11.256629943847656\n",
      "Epoch: 64, Avg Reward:-10.93, Actor Loss:7.410220146179199, Critic Loss:11.587284088134766\n",
      "Epoch: 65, Avg Reward:-10.89, Actor Loss:7.354763984680176, Critic Loss:11.385035514831543\n",
      "Epoch: 66, Avg Reward:-10.92, Actor Loss:7.31377649307251, Critic Loss:11.022010803222656\n",
      "Epoch: 67, Avg Reward:-10.87, Actor Loss:7.2466139793396, Critic Loss:11.042557716369629\n",
      "Epoch: 68, Avg Reward:-10.97, Actor Loss:7.1138482093811035, Critic Loss:10.600739479064941\n",
      "Epoch: 69, Avg Reward:-10.95, Actor Loss:7.004011154174805, Critic Loss:10.595056533813477\n",
      "Epoch: 70, Avg Reward:-10.9, Actor Loss:6.977390766143799, Critic Loss:10.314665794372559\n",
      "Epoch: 71, Avg Reward:-10.96, Actor Loss:6.896531105041504, Critic Loss:10.542383193969727\n",
      "Epoch: 72, Avg Reward:-10.89, Actor Loss:6.865738868713379, Critic Loss:10.438932418823242\n",
      "Epoch: 73, Avg Reward:-10.97, Actor Loss:6.901031970977783, Critic Loss:10.279655456542969\n",
      "Epoch: 74, Avg Reward:-10.92, Actor Loss:6.975383758544922, Critic Loss:9.853858947753906\n",
      "Epoch: 75, Avg Reward:-10.9, Actor Loss:7.042282581329346, Critic Loss:10.00264835357666\n",
      "Epoch: 76, Avg Reward:-10.92, Actor Loss:7.121070384979248, Critic Loss:9.807501792907715\n",
      "Epoch: 77, Avg Reward:-10.9, Actor Loss:7.221864223480225, Critic Loss:10.249968528747559\n",
      "Epoch: 78, Avg Reward:-10.92, Actor Loss:7.262421131134033, Critic Loss:9.718273162841797\n",
      "Epoch: 79, Avg Reward:-10.91, Actor Loss:7.285004615783691, Critic Loss:9.875431060791016\n",
      "Epoch: 80, Avg Reward:-10.94, Actor Loss:7.30809211730957, Critic Loss:9.627147674560547\n",
      "Epoch: 81, Avg Reward:-10.94, Actor Loss:7.304420471191406, Critic Loss:9.539694786071777\n",
      "Epoch: 82, Avg Reward:-10.9, Actor Loss:7.286495208740234, Critic Loss:9.771068572998047\n",
      "Epoch: 83, Avg Reward:-10.87, Actor Loss:7.216883659362793, Critic Loss:9.406338691711426\n",
      "Epoch: 84, Avg Reward:-10.89, Actor Loss:7.213104724884033, Critic Loss:9.72986125946045\n",
      "Epoch: 85, Avg Reward:-10.9, Actor Loss:7.167731285095215, Critic Loss:9.791891098022461\n",
      "Epoch: 86, Avg Reward:-11.0, Actor Loss:7.087269306182861, Critic Loss:9.891824722290039\n",
      "Epoch: 87, Avg Reward:-11.02, Actor Loss:6.995683670043945, Critic Loss:9.765544891357422\n",
      "Epoch: 88, Avg Reward:-10.94, Actor Loss:6.968307971954346, Critic Loss:9.709095001220703\n",
      "Epoch: 89, Avg Reward:-11.04, Actor Loss:6.996107578277588, Critic Loss:9.544661521911621\n",
      "Epoch: 90, Avg Reward:-11.05, Actor Loss:6.884857654571533, Critic Loss:9.671001434326172\n",
      "Epoch: 91, Avg Reward:-11.04, Actor Loss:6.761734485626221, Critic Loss:9.488239288330078\n",
      "Epoch: 92, Avg Reward:-11.08, Actor Loss:6.619161605834961, Critic Loss:9.41912841796875\n",
      "Epoch: 93, Avg Reward:-11.15, Actor Loss:6.505858421325684, Critic Loss:9.017770767211914\n",
      "Epoch: 94, Avg Reward:-11.1, Actor Loss:6.431060314178467, Critic Loss:9.40052604675293\n",
      "Epoch: 95, Avg Reward:-10.95, Actor Loss:6.315420627593994, Critic Loss:9.418130874633789\n",
      "Epoch: 96, Avg Reward:-11.05, Actor Loss:6.313825607299805, Critic Loss:9.263693809509277\n",
      "Epoch: 97, Avg Reward:-11.01, Actor Loss:6.338935375213623, Critic Loss:9.37813949584961\n",
      "Epoch: 98, Avg Reward:-10.98, Actor Loss:6.331484794616699, Critic Loss:9.377178192138672\n",
      "Epoch: 99, Avg Reward:-11.05, Actor Loss:6.374039649963379, Critic Loss:8.676057815551758\n"
     ]
    }
   ],
   "source": [
    "explore_prob = .2\n",
    "metrics2 = engine.train(explore_prob, limit = 20, buffer_cap = 10000, trials = 100)"
   ]
  },
  {
   "cell_type": "code",
   "execution_count": null,
   "id": "f25948ea-4159-4208-b77c-12650782f306",
   "metadata": {},
   "outputs": [
    {
     "name": "stdout",
     "output_type": "stream",
     "text": [
      "Epoch: 0, Avg Reward:-11.05, Actor Loss:6.393068313598633, Critic Loss:8.724658012390137\n",
      "Epoch: 1, Avg Reward:-11.05, Actor Loss:6.419567584991455, Critic Loss:9.000957489013672\n",
      "Epoch: 2, Avg Reward:-11.06, Actor Loss:6.508588790893555, Critic Loss:8.566447257995605\n",
      "Epoch: 3, Avg Reward:-11.05, Actor Loss:6.550856590270996, Critic Loss:8.506525039672852\n",
      "Epoch: 4, Avg Reward:-11.06, Actor Loss:6.600488185882568, Critic Loss:8.66111946105957\n",
      "Epoch: 5, Avg Reward:-11.03, Actor Loss:6.545934200286865, Critic Loss:8.691494941711426\n",
      "Epoch: 6, Avg Reward:-11.04, Actor Loss:6.613461017608643, Critic Loss:8.446761131286621\n",
      "Epoch: 7, Avg Reward:-11.02, Actor Loss:6.590026378631592, Critic Loss:8.65808391571045\n",
      "Epoch: 8, Avg Reward:-11.05, Actor Loss:6.482234954833984, Critic Loss:8.221104621887207\n",
      "Epoch: 9, Avg Reward:-11.13, Actor Loss:6.486964225769043, Critic Loss:8.271665573120117\n",
      "Epoch: 10, Avg Reward:-11.06, Actor Loss:6.27704381942749, Critic Loss:9.758211135864258\n",
      "Epoch: 11, Avg Reward:-10.98, Actor Loss:6.390299320220947, Critic Loss:9.53658390045166\n",
      "Epoch: 12, Avg Reward:-11.17, Actor Loss:6.348631381988525, Critic Loss:9.659804344177246\n",
      "Epoch: 13, Avg Reward:-11.1, Actor Loss:6.3434858322143555, Critic Loss:9.622235298156738\n",
      "Epoch: 14, Avg Reward:-11.17, Actor Loss:6.321957588195801, Critic Loss:9.46339225769043\n",
      "Epoch: 15, Avg Reward:-11.15, Actor Loss:6.24428653717041, Critic Loss:9.60314655303955\n",
      "Epoch: 16, Avg Reward:-11.1, Actor Loss:6.207197666168213, Critic Loss:9.242070198059082\n",
      "Epoch: 17, Avg Reward:-11.19, Actor Loss:6.21323299407959, Critic Loss:11.95009994506836\n",
      "Epoch: 18, Avg Reward:-11.28, Actor Loss:6.09172248840332, Critic Loss:11.741774559020996\n",
      "Epoch: 19, Avg Reward:-11.27, Actor Loss:6.099954128265381, Critic Loss:12.006868362426758\n"
     ]
    }
   ],
   "source": [
    "explore_prob = .2\n",
    "metrics3 = engine.train(explore_prob, limit = 20, buffer_cap = 10000, trials = 100)"
   ]
  },
  {
   "cell_type": "code",
   "execution_count": 5,
   "id": "a108894c-e610-41bd-b620-1d146dbced29",
   "metadata": {},
   "outputs": [
    {
     "name": "stdout",
     "output_type": "stream",
     "text": [
      "[[ 3  1  0 -1]\n",
      " [ 3 -1  0 -2]]\n",
      "[[3]\n",
      " [3]]\n",
      "[ -1 -10]\n"
     ]
    }
   ],
   "source": [
    "states,actions,next_states,rewards,dones = engine.run(init_state = [3,2,0,0],explore_prob=0)\n",
    "print(next_states)\n",
    "print(actions)\n",
    "print(rewards)"
   ]
  }
 ],
 "metadata": {
  "kernelspec": {
   "display_name": "Python 3 (ipykernel)",
   "language": "python",
   "name": "python3"
  },
  "language_info": {
   "codemirror_mode": {
    "name": "ipython",
    "version": 3
   },
   "file_extension": ".py",
   "mimetype": "text/x-python",
   "name": "python",
   "nbconvert_exporter": "python",
   "pygments_lexer": "ipython3",
   "version": "3.10.12"
  }
 },
 "nbformat": 4,
 "nbformat_minor": 5
}
