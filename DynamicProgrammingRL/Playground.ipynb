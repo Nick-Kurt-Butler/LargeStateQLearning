{
 "cells": [
  {
   "cell_type": "code",
   "execution_count": 1,
   "id": "f12f7a9d-697f-4f6a-902b-94d9951f2449",
   "metadata": {},
   "outputs": [
    {
     "name": "stderr",
     "output_type": "stream",
     "text": [
      "2023-11-02 12:32:02.695090: I tensorflow/tsl/cuda/cudart_stub.cc:28] Could not find cuda drivers on your machine, GPU will not be used.\n",
      "2023-11-02 12:32:02.739372: E tensorflow/compiler/xla/stream_executor/cuda/cuda_dnn.cc:9342] Unable to register cuDNN factory: Attempting to register factory for plugin cuDNN when one has already been registered\n",
      "2023-11-02 12:32:02.739404: E tensorflow/compiler/xla/stream_executor/cuda/cuda_fft.cc:609] Unable to register cuFFT factory: Attempting to register factory for plugin cuFFT when one has already been registered\n",
      "2023-11-02 12:32:02.739444: E tensorflow/compiler/xla/stream_executor/cuda/cuda_blas.cc:1518] Unable to register cuBLAS factory: Attempting to register factory for plugin cuBLAS when one has already been registered\n",
      "2023-11-02 12:32:02.747819: I tensorflow/tsl/cuda/cudart_stub.cc:28] Could not find cuda drivers on your machine, GPU will not be used.\n",
      "2023-11-02 12:32:02.748707: I tensorflow/core/platform/cpu_feature_guard.cc:182] This TensorFlow binary is optimized to use available CPU instructions in performance-critical operations.\n",
      "To enable the following instructions: AVX2 FMA, in other operations, rebuild TensorFlow with the appropriate compiler flags.\n",
      "2023-11-02 12:32:03.685065: W tensorflow/compiler/tf2tensorrt/utils/py_utils.cc:38] TF-TRT Warning: Could not find TensorRT\n"
     ]
    }
   ],
   "source": [
    "from Engine import Engine\n",
    "from Environment import Environment"
   ]
  },
  {
   "cell_type": "code",
   "execution_count": 10,
   "id": "0a0958cc-24dc-4c24-bfa9-cd4df16ea927",
   "metadata": {},
   "outputs": [
    {
     "data": {
      "text/plain": [
       "<matplotlib.image.AxesImage at 0x7f70f1f64760>"
      ]
     },
     "execution_count": 10,
     "metadata": {},
     "output_type": "execute_result"
    },
    {
     "data": {
      "image/png": "[encoded data removed]",
      "text/plain": [
       "<Figure size 640x480 with 1 Axes>"
      ]
     },
     "metadata": {},
     "output_type": "display_data"
    }
   ],
   "source": [
    "size = (10,10)\n",
    "goal_reward  = 100\n",
    "fail_penalty = -10\n",
    "time_penalty = -1\n",
    "outOfBoundsList = [(0,1),(1,1)]\n",
    "goalList = [(9,9)]\n",
    "\n",
    "env = Environment(size,goal_reward,fail_penalty,time_penalty,outOfBoundsList,goalList)\n",
    "engine = Engine(env)\n",
    "\n",
    "env.display()"
   ]
  },
  {
   "cell_type": "code",
   "execution_count": 11,
   "id": "bf315532-4ef6-4f8a-9777-9967ca086478",
   "metadata": {},
   "outputs": [
    {
     "name": "stdout",
     "output_type": "stream",
     "text": [
      "Iteration:0, Avg Q-val:-7.802605555555555\n",
      "Iteration:1, Avg Q-val:-9.363051805555557\n",
      "Iteration:2, Avg Q-val:-9.336692313055556\n",
      "Iteration:3, Avg Q-val:-8.498197539730556\n",
      "Iteration:4, Avg Q-val:-7.505426900040057\n",
      "Iteration:5, Avg Q-val:-6.408346287002223\n",
      "Iteration:6, Avg Q-val:-5.493653863074318\n",
      "Iteration:7, Avg Q-val:-4.693965096203818\n",
      "Iteration:8, Avg Q-val:-4.055056669781927\n",
      "Iteration:9, Avg Q-val:-4.045921497307091\n"
     ]
    }
   ],
   "source": [
    "engine.train(10,gamma = .99)"
   ]
  },
  {
   "cell_type": "code",
   "execution_count": 14,
   "id": "e34278bb-2a50-43c9-9f21-97dcf7aae4ca",
   "metadata": {},
   "outputs": [
    {
     "data": {
      "text/plain": [
       "(array([[ 0,  9,  0,  0],\n",
       "        [ 1,  8,  1, -1],\n",
       "        [ 3,  7,  2, -1],\n",
       "        [ 6,  7,  3,  0],\n",
       "        [ 8,  8,  2,  1],\n",
       "        [ 9,  9,  1,  1]]),\n",
       " array([[ 1, -1],\n",
       "        [ 1,  0],\n",
       "        [ 1,  1],\n",
       "        [-1,  1],\n",
       "        [-1,  0]]))"
      ]
     },
     "execution_count": 14,
     "metadata": {},
     "output_type": "execute_result"
    }
   ],
   "source": [
    "engine.run((0,9,0,0))"
   ]
  },
  {
   "cell_type": "code",
   "execution_count": null,
   "id": "3f3d012c-bc46-421f-b508-6d9022dc31fb",
   "metadata": {},
   "outputs": [],
   "source": []
  }
 ],
 "metadata": {
  "kernelspec": {
   "display_name": "Python 3 (ipykernel)",
   "language": "python",
   "name": "python3"
  },
  "language_info": {
   "codemirror_mode": {
    "name": "ipython",
    "version": 3
   },
   "file_extension": ".py",
   "mimetype": "text/x-python",
   "name": "python",
   "nbconvert_exporter": "python",
   "pygments_lexer": "ipython3",
   "version": "3.10.12"
  }
 },
 "nbformat": 4,
 "nbformat_minor": 5
}
