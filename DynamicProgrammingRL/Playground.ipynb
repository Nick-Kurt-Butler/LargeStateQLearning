{
 "cells": [
  {
   "cell_type": "code",
   "execution_count": 1,
   "id": "4c4a7974",
   "metadata": {},
   "outputs": [],
   "source": [
    "from Engine import Engine\n",
    "from Environment import Environment"
   ]
  },
  {
   "cell_type": "code",
   "execution_count": 2,
   "id": "b9e9b6da",
   "metadata": {},
   "outputs": [
    {
     "data": {
      "text/html": [
       "<div>\n",
       "<style scoped>\n",
       "    .dataframe tbody tr th:only-of-type {\n",
       "        vertical-align: middle;\n",
       "    }\n",
       "\n",
       "    .dataframe tbody tr th {\n",
       "        vertical-align: top;\n",
       "    }\n",
       "\n",
       "    .dataframe thead th {\n",
       "        text-align: right;\n",
       "    }\n",
       "</style>\n",
       "<table border=\"1\" class=\"dataframe\">\n",
       "  <thead>\n",
       "    <tr style=\"text-align: right;\">\n",
       "      <th></th>\n",
       "      <th>STATE_0</th>\n",
       "      <th>ACTION</th>\n",
       "      <th>STATE_1</th>\n",
       "      <th>TERMINAL</th>\n",
       "      <th>REWARD</th>\n",
       "      <th>Q</th>\n",
       "    </tr>\n",
       "  </thead>\n",
       "  <tbody>\n",
       "    <tr>\n",
       "      <th>40065</th>\n",
       "      <td>(2, 1, -2, -5)</td>\n",
       "      <td>(1, -1)</td>\n",
       "      <td>(1, -5, -1, -6)</td>\n",
       "      <td>True</td>\n",
       "      <td>-100.0</td>\n",
       "      <td>0.0</td>\n",
       "    </tr>\n",
       "    <tr>\n",
       "      <th>133142</th>\n",
       "      <td>(7, 1, 4, 1)</td>\n",
       "      <td>(0, 1)</td>\n",
       "      <td>(11, 3, 4, 2)</td>\n",
       "      <td>True</td>\n",
       "      <td>-100.0</td>\n",
       "      <td>0.0</td>\n",
       "    </tr>\n",
       "    <tr>\n",
       "      <th>91369</th>\n",
       "      <td>(4, 7, 2, 0)</td>\n",
       "      <td>(-1, 0)</td>\n",
       "      <td>(5, 7, 1, 0)</td>\n",
       "      <td>False</td>\n",
       "      <td>-1.0</td>\n",
       "      <td>0.0</td>\n",
       "    </tr>\n",
       "    <tr>\n",
       "      <th>136450</th>\n",
       "      <td>(7, 3, -5, 1)</td>\n",
       "      <td>(-1, 0)</td>\n",
       "      <td>(1, 4, -6, 1)</td>\n",
       "      <td>True</td>\n",
       "      <td>-100.0</td>\n",
       "      <td>0.0</td>\n",
       "    </tr>\n",
       "    <tr>\n",
       "      <th>61961</th>\n",
       "      <td>(3, 2, 6, -4)</td>\n",
       "      <td>(0, 1)</td>\n",
       "      <td>(9, -1, 6, -3)</td>\n",
       "      <td>True</td>\n",
       "      <td>-100.0</td>\n",
       "      <td>0.0</td>\n",
       "    </tr>\n",
       "    <tr>\n",
       "      <th>34941</th>\n",
       "      <td>(1, 7, -6, 2)</td>\n",
       "      <td>(0, -1)</td>\n",
       "      <td>(-5, 8, -6, 1)</td>\n",
       "      <td>True</td>\n",
       "      <td>-100.0</td>\n",
       "      <td>0.0</td>\n",
       "    </tr>\n",
       "    <tr>\n",
       "      <th>144998</th>\n",
       "      <td>(7, 6, 6, 6)</td>\n",
       "      <td>(1, 1)</td>\n",
       "      <td>(14, 13, 7, 7)</td>\n",
       "      <td>True</td>\n",
       "      <td>-100.0</td>\n",
       "      <td>0.0</td>\n",
       "    </tr>\n",
       "    <tr>\n",
       "      <th>69947</th>\n",
       "      <td>(3, 6, -3, 3)</td>\n",
       "      <td>(1, 1)</td>\n",
       "      <td>(1, 10, -2, 4)</td>\n",
       "      <td>True</td>\n",
       "      <td>-100.0</td>\n",
       "      <td>0.0</td>\n",
       "    </tr>\n",
       "    <tr>\n",
       "      <th>87509</th>\n",
       "      <td>(4, 5, 7, 3)</td>\n",
       "      <td>(-1, 1)</td>\n",
       "      <td>(10, 9, 6, 4)</td>\n",
       "      <td>True</td>\n",
       "      <td>-100.0</td>\n",
       "      <td>0.0</td>\n",
       "    </tr>\n",
       "    <tr>\n",
       "      <th>106963</th>\n",
       "      <td>(5, 6, -2, 4)</td>\n",
       "      <td>(1, 0)</td>\n",
       "      <td>(4, 10, -1, 4)</td>\n",
       "      <td>True</td>\n",
       "      <td>-100.0</td>\n",
       "      <td>0.0</td>\n",
       "    </tr>\n",
       "  </tbody>\n",
       "</table>\n",
       "</div>"
      ],
      "text/plain": [
       "               STATE_0   ACTION          STATE_1  TERMINAL  REWARD    Q\n",
       "40065   (2, 1, -2, -5)  (1, -1)  (1, -5, -1, -6)      True  -100.0  0.0\n",
       "133142    (7, 1, 4, 1)   (0, 1)    (11, 3, 4, 2)      True  -100.0  0.0\n",
       "91369     (4, 7, 2, 0)  (-1, 0)     (5, 7, 1, 0)     False    -1.0  0.0\n",
       "136450   (7, 3, -5, 1)  (-1, 0)    (1, 4, -6, 1)      True  -100.0  0.0\n",
       "61961    (3, 2, 6, -4)   (0, 1)   (9, -1, 6, -3)      True  -100.0  0.0\n",
       "34941    (1, 7, -6, 2)  (0, -1)   (-5, 8, -6, 1)      True  -100.0  0.0\n",
       "144998    (7, 6, 6, 6)   (1, 1)   (14, 13, 7, 7)      True  -100.0  0.0\n",
       "69947    (3, 6, -3, 3)   (1, 1)   (1, 10, -2, 4)      True  -100.0  0.0\n",
       "87509     (4, 5, 7, 3)  (-1, 1)    (10, 9, 6, 4)      True  -100.0  0.0\n",
       "106963   (5, 6, -2, 4)   (1, 0)   (4, 10, -1, 4)      True  -100.0  0.0"
      ]
     },
     "execution_count": 2,
     "metadata": {},
     "output_type": "execute_result"
    }
   ],
   "source": [
    "size = (8,8)\n",
    "goal_reward  = 1000\n",
    "fail_penalty = -100\n",
    "time_penalty = -1\n",
    "outOfBoundsList = [(x,1) for x in range(3)]\n",
    "for i in range(4):\n",
    "    outOfBoundsList += [(x,5-i) for x in range(4+i,8)]\n",
    "for i in range(3):\n",
    "    outOfBoundsList += [(x,7-i) for x in range(3-i)]\n",
    "goalList = [(7,6)]\n",
    "\n",
    "env = Environment(size,goal_reward,fail_penalty,time_penalty,outOfBoundsList,goalList)\n",
    "engine = Engine(env)\n",
    "\n",
    "engine.Env.df.sample(10)"
   ]
  },
  {
   "cell_type": "code",
   "execution_count": null,
   "id": "05a7f30c",
   "metadata": {},
   "outputs": [],
   "source": [
    "\"\"\"\n",
    "WITH t1 AS (\n",
    "    SELECT state_0, action, state_1, reward\n",
    "    FROM state_table\n",
    "), t2 AS (\n",
    "    SELECT state_0, MAX(Q) as Qmax\n",
    "    FROM state_table\n",
    ")\n",
    "SELECT t1.state_0, action, state_1, reward,\n",
    "    IFNULL(reward+gamma*Qmax,Rmin) AS Q\n",
    "FROM t1 LEFT JOIN t2\n",
    "ON t1.state_1 = t2.state_0\n",
    "\"\"\""
   ]
  },
  {
   "cell_type": "code",
   "execution_count": null,
   "id": "a9d9689d",
   "metadata": {},
   "outputs": [],
   "source": [
    "for i in range(trials):\n",
    "    session.sql(\n",
    "        \"\"\"\n",
    "        CREATE OR REPLACE TABLE state_table AS (\n",
    "            SELECT t1.state_0, action, state_1, reward,\n",
    "                IFNULL(reward+gamma*Qmax,Rmin) AS Q\n",
    "            FROM (\n",
    "                SELECT state_0, action, state_1, reward\n",
    "                FROM state_table\n",
    "            ) t1\n",
    "            LEFT JOIN (\n",
    "                SELECT state_0, MAX(Q) as Qmax\n",
    "                FROM state_table\n",
    "            ) t2\n",
    "            ON t1.state_1 = t2.state_0\n",
    "        )\n",
    "        \"\"\"\n",
    "    )\n",
    "    if not changing a bunch then kill"
   ]
  },
  {
   "cell_type": "markdown",
   "id": "2b276bf8",
   "metadata": {},
   "source": [
    "DQN Dynamic Programming Approach Deployed in Snowflake\n",
    "\n",
    "S,A,S'"
   ]
  },
  {
   "cell_type": "code",
   "execution_count": null,
   "id": "653c47b0",
   "metadata": {},
   "outputs": [],
   "source": [
    "for i in range(iterations):\n",
    "    Qmax = self.Env.df[[\"STATE_1\"]].merge(self.Env.df.groupby('STATE_0').Q.max(),\n",
    "                      left_on=\"STATE_1\",\n",
    "                      right_index=True,how=\"left\").Q.fillna(self.Env.fail_penalty)\n",
    "    self.Env.df.Q = self.Env.df.REWARD + gamma*Qmax*(1-self.Env.df.TERMINAL)\n",
    "    print(f\"Iteration:{i}, Avg Q-val:{self.Env.df.Q.mean()}\")"
   ]
  },
  {
   "cell_type": "code",
   "execution_count": 3,
   "id": "598bca5d",
   "metadata": {},
   "outputs": [
    {
     "name": "stdout",
     "output_type": "stream",
     "text": [
      "Iteration:0, Avg Q-val:-91.70979139539931\n",
      "Iteration:1, Avg Q-val:-95.1867823621962\n",
      "Iteration:2, Avg Q-val:-93.88035457899304\n",
      "Iteration:3, Avg Q-val:-91.57392695588514\n",
      "Iteration:4, Avg Q-val:-87.94493052238174\n",
      "Iteration:5, Avg Q-val:-82.29567324400881\n",
      "Iteration:6, Avg Q-val:-75.12505967556751\n",
      "Iteration:7, Avg Q-val:-69.70842855454204\n",
      "Iteration:8, Avg Q-val:-66.22606482049179\n",
      "Iteration:9, Avg Q-val:-64.38743293859356\n",
      "Iteration:10, Avg Q-val:-63.17316310912314\n",
      "Iteration:11, Avg Q-val:-63.06386888863257\n",
      "Iteration:12, Avg Q-val:-63.06386888863257\n",
      "Iteration:13, Avg Q-val:-63.06386888863257\n",
      "Iteration:14, Avg Q-val:-63.06386888863257\n"
     ]
    }
   ],
   "source": [
    "engine.train(15,gamma = .99)"
   ]
  },
  {
   "cell_type": "code",
   "execution_count": 4,
   "id": "6403d3e9",
   "metadata": {},
   "outputs": [
    {
     "data": {
      "image/png": "[encoded data removed]",
      "text/plain": [
       "<Figure size 640x480 with 1 Axes>"
      ]
     },
     "metadata": {},
     "output_type": "display_data"
    }
   ],
   "source": [
    "engine.display_run((0,0,0,0))"
   ]
  }
 ],
 "metadata": {
  "kernelspec": {
   "display_name": "Python 3 (ipykernel)",
   "language": "python",
   "name": "python3"
  },
  "language_info": {
   "codemirror_mode": {
    "name": "ipython",
    "version": 3
   },
   "file_extension": ".py",
   "mimetype": "text/x-python",
   "name": "python",
   "nbconvert_exporter": "python",
   "pygments_lexer": "ipython3",
   "version": "3.10.12"
  }
 },
 "nbformat": 4,
 "nbformat_minor": 5
}
