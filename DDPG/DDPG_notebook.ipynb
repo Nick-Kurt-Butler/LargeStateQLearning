{
 "cells": [
  {
   "cell_type": "code",
   "execution_count": 1,
   "id": "6cf5c65c-a347-4d41-81c2-dc2d13ec534e",
   "metadata": {
    "collapsed": true,
    "jupyter": {
     "outputs_hidden": true
    }
   },
   "outputs": [
    {
     "name": "stderr",
     "output_type": "stream",
     "text": [
      "2023-11-06 09:59:49.932262: I tensorflow/tsl/cuda/cudart_stub.cc:28] Could not find cuda drivers on your machine, GPU will not be used.\n",
      "2023-11-06 09:59:49.977208: E tensorflow/compiler/xla/stream_executor/cuda/cuda_dnn.cc:9342] Unable to register cuDNN factory: Attempting to register factory for plugin cuDNN when one has already been registered\n",
      "2023-11-06 09:59:49.977241: E tensorflow/compiler/xla/stream_executor/cuda/cuda_fft.cc:609] Unable to register cuFFT factory: Attempting to register factory for plugin cuFFT when one has already been registered\n",
      "2023-11-06 09:59:49.977274: E tensorflow/compiler/xla/stream_executor/cuda/cuda_blas.cc:1518] Unable to register cuBLAS factory: Attempting to register factory for plugin cuBLAS when one has already been registered\n",
      "2023-11-06 09:59:49.985646: I tensorflow/tsl/cuda/cudart_stub.cc:28] Could not find cuda drivers on your machine, GPU will not be used.\n",
      "2023-11-06 09:59:49.986598: I tensorflow/core/platform/cpu_feature_guard.cc:182] This TensorFlow binary is optimized to use available CPU instructions in performance-critical operations.\n",
      "To enable the following instructions: AVX2 FMA, in other operations, rebuild TensorFlow with the appropriate compiler flags.\n",
      "2023-11-06 09:59:51.049949: W tensorflow/compiler/tf2tensorrt/utils/py_utils.cc:38] TF-TRT Warning: Could not find TensorRT\n"
     ]
    }
   ],
   "source": [
    "from Environment import Environment\n",
    "from Agents import DDPGAgent\n",
    "from Engine import Engine"
   ]
  },
  {
   "cell_type": "code",
   "execution_count": 2,
   "id": "12cc98f9-36f0-4d3b-8524-9a0c4130467e",
   "metadata": {},
   "outputs": [
    {
     "data": {
      "text/plain": [
       "<matplotlib.image.AxesImage at 0x7f8ba377e0b0>"
      ]
     },
     "execution_count": 2,
     "metadata": {},
     "output_type": "execute_result"
    },
    {
     "data": {
      "image/png": "[encoded data removed]",
      "text/plain": [
       "<Figure size 640x480 with 1 Axes>"
      ]
     },
     "metadata": {},
     "output_type": "display_data"
    }
   ],
   "source": [
    "size = (8,8)\n",
    "goal_reward  = 1000\n",
    "fail_penalty = -100\n",
    "time_penalty = -1\n",
    "outOfBoundsList = [(x,1) for x in range(3)]\n",
    "for i in range(4):\n",
    "    outOfBoundsList += [(x,5-i) for x in range(4+i,8)]\n",
    "for i in range(3):\n",
    "    outOfBoundsList += [(x,7-i) for x in range(3-i)]\n",
    "goalList = [(7,6)]\n",
    "\n",
    "action_dim = 9\n",
    "\n",
    "tau = 0.00001\n",
    "gamma = .99\n",
    "\n",
    "env = Environment(size,goal_reward,fail_penalty,time_penalty,outOfBoundsList,goalList)\n",
    "agent = DDPGAgent(action_dim, tau = tau, gamma = gamma)\n",
    "engine = Engine(env,agent)\n",
    "\n",
    "env.display()"
   ]
  },
  {
   "cell_type": "code",
   "execution_count": 3,
   "id": "783721f9-d1d6-4298-bfa4-8861b9832942",
   "metadata": {},
   "outputs": [],
   "source": [
    "metrics_vec = engine.train_vec(batch_size=100,trials=10,epsilon=.5)"
   ]
  },
  {
   "cell_type": "code",
   "execution_count": 9,
   "id": "6fd2c404-e8de-4cb3-82da-ad2bd25c4577",
   "metadata": {},
   "outputs": [],
   "source": [
    "metrics = engine.train(epsilon=.2, limit = 20, batch_size = 100, trials = 10)"
   ]
  },
  {
   "cell_type": "code",
   "execution_count": 8,
   "id": "a108894c-e610-41bd-b620-1d146dbced29",
   "metadata": {},
   "outputs": [
    {
     "data": {
      "image/png": "[encoded data removed]",
      "text/plain": [
       "<Figure size 640x480 with 1 Axes>"
      ]
     },
     "metadata": {},
     "output_type": "display_data"
    }
   ],
   "source": [
    "engine.display_run((0,0,0,0),epsilon=1)"
   ]
  }
 ],
 "metadata": {
  "kernelspec": {
   "display_name": "Python 3 (ipykernel)",
   "language": "python",
   "name": "python3"
  },
  "language_info": {
   "codemirror_mode": {
    "name": "ipython",
    "version": 3
   },
   "file_extension": ".py",
   "mimetype": "text/x-python",
   "name": "python",
   "nbconvert_exporter": "python",
   "pygments_lexer": "ipython3",
   "version": "3.10.12"
  }
 },
 "nbformat": 4,
 "nbformat_minor": 5
}
