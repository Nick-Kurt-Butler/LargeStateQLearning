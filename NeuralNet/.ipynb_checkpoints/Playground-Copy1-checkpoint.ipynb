{
 "cells": [
  {
   "cell_type": "code",
   "execution_count": 2,
   "id": "f17485e2-413c-45ae-89fc-f193de257015",
   "metadata": {},
   "outputs": [
    {
     "data": {
      "text/plain": [
       "<matplotlib.image.AxesImage at 0x7f7c74598b20>"
      ]
     },
     "execution_count": 2,
     "metadata": {},
     "output_type": "execute_result"
    },
    {
     "data": {
      "image/png": "[encoded data removed]",
      "text/plain": [
       "<Figure size 640x480 with 1 Axes>"
      ]
     },
     "metadata": {},
     "output_type": "display_data"
    }
   ],
   "source": [
    "from Environment import Environment\n",
    "\n",
    "size = (4,4)\n",
    "goal_reward = 10\n",
    "punishment = -10\n",
    "time_penalty = -1\n",
    "outOfBoundsList = [(0,1),(1,1)]\n",
    "goalList = [(3,3)]\n",
    "\n",
    "env = Environment(size,goal_reward,punishment,time_penalty,outOfBoundsList,goalList)\n",
    "env.display()"
   ]
  },
  {
   "cell_type": "code",
   "execution_count": 5,
   "id": "e2ddef0a-3bef-4bc4-a5a8-f71676874bbd",
   "metadata": {},
   "outputs": [],
   "source": [
    "from Agents import DDPGAgent\n",
    "# The State gives the Cartesian coordinates for both Position and Velocity\n",
    "# State: [px,py,vx,vy]\n",
    "state_dim = 4\n",
    "# The action is the proposed acceleration\n",
    "# Action: a\n",
    "action_dim = 9\n",
    "\n",
    "agent = DDPGAgent(action_dim, tau = .00001, gamma = .99)"
   ]
  },
  {
   "cell_type": "code",
   "execution_count": 6,
   "id": "a558cde5-4f6c-4fcd-875a-3a0f87f53dd1",
   "metadata": {},
   "outputs": [],
   "source": [
    "from Engine import Engine\n",
    "engine = Engine(env,agent)"
   ]
  },
  {
   "cell_type": "code",
   "execution_count": null,
   "id": "e45b059e-fcc3-4d88-bb23-944873176c32",
   "metadata": {},
   "outputs": [],
   "source": [
    "metrics = engine.explore_train(batch_size=100000,trials=100)"
   ]
  },
  {
   "cell_type": "code",
   "execution_count": null,
   "id": "f25948ea-4159-4208-b77c-12650782f306",
   "metadata": {},
   "outputs": [],
   "source": [
    "explore_prob = .2\n",
    "metrics = engine.train(explore_prob, limit = 20, buffer_cap = 10000, trials = 100)"
   ]
  },
  {
   "cell_type": "code",
   "execution_count": 7,
   "id": "a108894c-e610-41bd-b620-1d146dbced29",
   "metadata": {},
   "outputs": [
    {
     "name": "stdout",
     "output_type": "stream",
     "text": [
      "[[ 1  2 -1  0]\n",
      " [-1  2 -2  0]]\n",
      "[[1]\n",
      " [1]]\n",
      "[ -1 -10]\n"
     ]
    }
   ],
   "source": [
    "states,actions,next_states,rewards,dones = engine.run(init_state = [2,2,0,0],explore_prob=0)\n",
    "print(next_states)\n",
    "print(actions)\n",
    "print(rewards)"
   ]
  },
  {
   "cell_type": "code",
   "execution_count": null,
   "id": "089aa7e1-76e1-404a-b64b-1b2f0d5a7976",
   "metadata": {},
   "outputs": [],
   "source": []
  }
 ],
 "metadata": {
  "kernelspec": {
   "display_name": "Python 3 (ipykernel)",
   "language": "python",
   "name": "python3"
  },
  "language_info": {
   "codemirror_mode": {
    "name": "ipython",
    "version": 3
   },
   "file_extension": ".py",
   "mimetype": "text/x-python",
   "name": "python",
   "nbconvert_exporter": "python",
   "pygments_lexer": "ipython3",
   "version": "3.10.12"
  }
 },
 "nbformat": 4,
 "nbformat_minor": 5
}
