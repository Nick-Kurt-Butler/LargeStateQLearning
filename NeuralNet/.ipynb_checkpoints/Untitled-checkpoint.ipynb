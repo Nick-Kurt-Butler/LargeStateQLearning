{
 "cells": [
  {
   "cell_type": "code",
   "execution_count": 432,
   "id": "bc633e3d-ecef-4a12-a0cc-a20aad1c516b",
   "metadata": {},
   "outputs": [],
   "source": [
    "import numpy as np\n",
    "import matplotlib.pyplot as plt\n",
    "\n",
    "class Environment2:\n",
    "    def __init__(self,size, goal_reward, fail_penalty, time_penalty, outOfBoundsList, goalList):\n",
    "        self.size = size # size of the map in length units\n",
    "        self.goal_reward  = goal_reward # reward for reaching goal\n",
    "        self.fail_penalty = fail_penalty # punishment for going out of bounds\n",
    "        self.time_penalty = time_penalty # punishment for each time step completed\n",
    "        self.outOfBoundsList = outOfBoundsList\n",
    "        self.goalList = goalList\n",
    "\n",
    "    def goal_reached(self,states):\n",
    "        \"\"\"\n",
    "        return boolean for if a state has reached the goal\n",
    "        Conditions\n",
    "        ----------\n",
    "        1. Has reached a specified goal zone\n",
    "            and\n",
    "        2. Has a zero velocity on landing\n",
    "        \"\"\"\n",
    "        gr = np.zeros(states.shape[0]).astype(bool)\n",
    "\n",
    "        px = states[:,0]\n",
    "        py = states[:,1]\n",
    "        vx = states[:,2] == 0\n",
    "        vy = states[:,3] == 0\n",
    "        \n",
    "        for (x,y) in self.goalList: gr |= (px == x) & (py == y)\n",
    "\n",
    "        goal_reached = gr&vx&vy\n",
    "\n",
    "        return goal_reached\n",
    "\n",
    "    def failure(self,states):\n",
    "        \"\"\"\n",
    "        return boolean for if a state results in a failure in the environment\n",
    "        Conditions\n",
    "        ----------\n",
    "        1. Outside the boundaries of the environment\n",
    "            or\n",
    "        2. In one of the specified out of bounds zones\n",
    "        \"\"\"\n",
    "        oob = np.zeros(states.shape[0]).astype(bool)\n",
    "\n",
    "        px = states[:,0]\n",
    "        py = states[:,1]\n",
    "        \n",
    "        for (x,y) in self.outOfBoundsList: oob |= (px == x) & (py == y)\n",
    "\n",
    "        oobx = (px < 0) | (self.size[0] <= px)\n",
    "        ooby = (py < 0) | (self.size[1] <= py)\n",
    "        fail = oob|oobx|ooby\n",
    "\n",
    "        return fail\n",
    "\n",
    "    def done(self,states):\n",
    "        \"\"\"\n",
    "        return boolean for if a state has reached the goal\n",
    "        \n",
    "        Conditions\n",
    "        ----------\n",
    "        1. Goal Reached\n",
    "            or\n",
    "        2. Out of Bounds\n",
    "        \"\"\"\n",
    "        n = states.shape[0]\n",
    "        gr = np.zeros(n).astype(bool)\n",
    "        oob = np.zeros(n).astype(bool)\n",
    "\n",
    "        px = states[:,0]\n",
    "        py = states[:,1]\n",
    "        vx = states[:,2] == 0\n",
    "        vy = states[:,3] == 0\n",
    "        \n",
    "        for (x,y) in self.goalList: gr |= (px == x) & (py == y)\n",
    "        for (x,y) in self.outOfBoundsList: oob |= (px == x) & (py == y)\n",
    "\n",
    "        goal_reached = gr&vx&vy\n",
    "\n",
    "        oobx = (px < 0) | (self.size[0] <= px)\n",
    "        ooby = (py < 0) | (self.size[1] <= py)\n",
    "        fail = oob|oobx|ooby\n",
    "\n",
    "        return goal_reached | fail\n",
    "\n",
    "    def valid_states(self):\n",
    "        \"\"\"\n",
    "        Find all potential starting states in environment\n",
    "        \"\"\"\n",
    "        pos = [[x,y] for x in range(self.size[0]) for y in range(self.size[1])]\n",
    "        vel = np.zeros([len(pos),1])\n",
    "        return np.concatenate([pos,vel,vel],axis=1)\n",
    "\n",
    "    def step(self,states,actions):\n",
    "        \"\"\"\n",
    "        Multi-array version of step_f\n",
    "        \"\"\"\n",
    "        ax = actions//3 - 1\n",
    "        ay = actions% 3 - 1\n",
    "        vx = states[:,2] + ax\n",
    "        vy = states[:,3] + ay\n",
    "        px = states[:,0] + vx\n",
    "        py = states[:,1] + vy\n",
    "        \n",
    "        return np.vstack([px,py,vx,vy]).T\n",
    "\n",
    "    def reward(self,states,actions,next_states):\n",
    "        \"\"\"\n",
    "        Multi-array version of step_f\n",
    "        \"\"\"\n",
    "        n = next_states.shape[0]\n",
    "        gr = np.zeros(n).astype(bool)\n",
    "        oob = np.zeros(n).astype(bool)\n",
    "\n",
    "        px = next_states[:,0]\n",
    "        py = next_states[:,1]\n",
    "        vx = next_states[:,2] == 0\n",
    "        vy = next_states[:,3] == 0\n",
    "        \n",
    "        for (x,y) in self.goalList: gr |= (px == x) & (py == y)\n",
    "        for (x,y) in self.outOfBoundsList: oob |= (px == x) & (py == y)\n",
    "\n",
    "        goal_reached = gr&vx&vy\n",
    "\n",
    "        oobx = (px < 0) | (self.size[0] <= px)\n",
    "        ooby = (py < 0) | (self.size[1] <= py)\n",
    "        not_moving = (actions == 4) & (states[:,2] == 0) & (states[:,3] == 0)\n",
    "        fail = oob|oobx|ooby|not_moving\n",
    "\n",
    "        rw = np.ones(n)*self.time_penalty\n",
    "        rw[goal_reached.astype(bool)] = self.goal_reward\n",
    "        rw[fail.astype(bool)] = self.fail_penalty\n",
    "\n",
    "        return rw\n",
    "    \n",
    "    def display(self):\n",
    "        \"\"\"\n",
    "        Display Map\n",
    "        \"\"\"\n",
    "        sx,sy = self.size\n",
    "        env = np.ones([sx,sy,3])\n",
    "\n",
    "        for (x,y) in [[x,y] for x in range(sx) for y in range(sy)]:\n",
    "            if (x,y) in self.goalList:\n",
    "                env[x,y] = [0,1,0]\n",
    "            elif (x,y) in self.outOfBoundsList:\n",
    "                env[x,y] = [0,0,0]\n",
    "        print(env)\n",
    "        img = plt.imshow(np.swapaxes(env,0,1)[::-1], extent = [0,self.size[0],0,self.size[1]])\n",
    "        img.set_cmap('hot')\n",
    "        plt.xlim(0,self.size[0])\n",
    "        plt.ylim(0,self.size[1])\n",
    "        plt.axis('off')\n",
    "        for i in range(sx+1):\n",
    "            plt.axvline(i)\n",
    "        for i in range(sy+1):\n",
    "            plt.axhline(i)\n",
    "        return img\n"
   ]
  },
  {
   "cell_type": "code",
   "execution_count": 434,
   "id": "47634e82-8c54-4014-a85c-e2bbfaf49693",
   "metadata": {},
   "outputs": [
    {
     "name": "stdout",
     "output_type": "stream",
     "text": [
      "[[[1. 1. 1.]\n",
      "  [0. 0. 0.]\n",
      "  [1. 1. 1.]\n",
      "  [1. 1. 1.]\n",
      "  [1. 1. 1.]]\n",
      "\n",
      " [[1. 1. 1.]\n",
      "  [0. 0. 0.]\n",
      "  [1. 1. 1.]\n",
      "  [1. 1. 1.]\n",
      "  [1. 1. 1.]]\n",
      "\n",
      " [[1. 1. 1.]\n",
      "  [1. 1. 1.]\n",
      "  [1. 1. 1.]\n",
      "  [0. 1. 0.]\n",
      "  [1. 1. 1.]]\n",
      "\n",
      " [[1. 1. 1.]\n",
      "  [1. 1. 1.]\n",
      "  [1. 1. 1.]\n",
      "  [0. 1. 0.]\n",
      "  [1. 1. 1.]]]\n"
     ]
    },
    {
     "data": {
      "text/plain": [
       "<matplotlib.image.AxesImage at 0x7f24a6f05210>"
      ]
     },
     "execution_count": 434,
     "metadata": {},
     "output_type": "execute_result"
    },
    {
     "data": {
      "image/png": "[encoded data removed]",
      "text/plain": [
       "<Figure size 640x480 with 1 Axes>"
      ]
     },
     "metadata": {},
     "output_type": "display_data"
    }
   ],
   "source": [
    "size = (4,5)\n",
    "goal_reward = 10\n",
    "fail_penalty = -10\n",
    "time_penalty = -1\n",
    "outOfBoundsList = [(0,1),(1,1)]\n",
    "goalList = [(3,3),(2,3)]\n",
    "env = Environment(size,goal_reward,fail_penalty,time_penalty,outOfBoundsList,goalList)\n",
    "env.display()"
   ]
  },
  {
   "cell_type": "code",
   "execution_count": 435,
   "id": "3751b0ea-dd99-4c7c-8ff1-95e31d462737",
   "metadata": {},
   "outputs": [],
   "source": [
    "n = 100000\n",
    "states = np.random.randint(6,size=(n,4))\n",
    "actions = np.random.randint(9,size = n)\n",
    "next_states = env2.step(states,actions)"
   ]
  },
  {
   "cell_type": "code",
   "execution_count": 381,
   "id": "a86f1522-aebd-4e37-a592-4b7e5e6ad68b",
   "metadata": {},
   "outputs": [
    {
     "name": "stdout",
     "output_type": "stream",
     "text": [
      "8.37 s ± 996 ms per loop (mean ± std. dev. of 7 runs, 1 loop each)\n"
     ]
    }
   ],
   "source": [
    "%%timeit\n",
    "res1 = env1.reward(states,actions,next_states)"
   ]
  },
  {
   "cell_type": "code",
   "execution_count": 436,
   "id": "bdc4a25b-e4a6-4c0f-99b9-43bfbd1c85a1",
   "metadata": {},
   "outputs": [
    {
     "name": "stdout",
     "output_type": "stream",
     "text": [
      "2.03 ms ± 130 µs per loop (mean ± std. dev. of 7 runs, 100 loops each)\n"
     ]
    }
   ],
   "source": [
    "%%timeit\n",
    "res2 = env2.reward(states,actions,next_states)"
   ]
  },
  {
   "cell_type": "code",
   "execution_count": 439,
   "id": "2bf65603-ce7c-4f12-a8f7-1635e0c873d9",
   "metadata": {},
   "outputs": [
    {
     "data": {
      "text/plain": [
       "(100000, 4)"
      ]
     },
     "execution_count": 439,
     "metadata": {},
     "output_type": "execute_result"
    }
   ],
   "source": [
    "states.shape"
   ]
  },
  {
   "cell_type": "code",
   "execution_count": 440,
   "id": "aab47219-714c-4115-90e9-544c2a665b11",
   "metadata": {},
   "outputs": [
    {
     "data": {
      "text/plain": [
       "(100000,)"
      ]
     },
     "execution_count": 440,
     "metadata": {},
     "output_type": "execute_result"
    }
   ],
   "source": [
    "actions.shape"
   ]
  },
  {
   "cell_type": "code",
   "execution_count": null,
   "id": "bf98ee50-2dbe-49d4-a70b-7fe0eb9bd527",
   "metadata": {},
   "outputs": [],
   "source": []
  },
  {
   "cell_type": "code",
   "execution_count": 380,
   "id": "b22189cd-ff11-4db5-8ee6-b144536f345c",
   "metadata": {},
   "outputs": [
    {
     "data": {
      "text/plain": [
       "0"
      ]
     },
     "execution_count": 380,
     "metadata": {},
     "output_type": "execute_result"
    }
   ],
   "source": [
    "(res1 != res2).sum()"
   ]
  },
  {
   "cell_type": "code",
   "execution_count": 396,
   "id": "4d1ab418-b2d4-4ec7-b8f5-96a275948da7",
   "metadata": {},
   "outputs": [
    {
     "data": {
      "text/plain": [
       "<matplotlib.image.AxesImage at 0x7f24a7840880>"
      ]
     },
     "execution_count": 396,
     "metadata": {},
     "output_type": "execute_result"
    },
    {
     "data": {
      "image/png": "[encoded data removed]",
      "text/plain": [
       "<Figure size 640x480 with 1 Axes>"
      ]
     },
     "metadata": {},
     "output_type": "display_data"
    }
   ],
   "source": [
    "im = np.ones([4,4,3])\n",
    "im[0,0] = [1,0,0]\n",
    "plt.imshow(im)"
   ]
  },
  {
   "cell_type": "code",
   "execution_count": null,
   "id": "8b2621ce-b22b-40c9-bc0e-285d6ef20d82",
   "metadata": {},
   "outputs": [],
   "source": []
  }
 ],
 "metadata": {
  "kernelspec": {
   "display_name": "Python 3 (ipykernel)",
   "language": "python",
   "name": "python3"
  },
  "language_info": {
   "codemirror_mode": {
    "name": "ipython",
    "version": 3
   },
   "file_extension": ".py",
   "mimetype": "text/x-python",
   "name": "python",
   "nbconvert_exporter": "python",
   "pygments_lexer": "ipython3",
   "version": "3.10.12"
  }
 },
 "nbformat": 4,
 "nbformat_minor": 5
}
