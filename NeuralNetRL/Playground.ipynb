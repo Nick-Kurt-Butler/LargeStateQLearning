{
 "cells": [
  {
   "cell_type": "code",
   "execution_count": null,
   "id": "6cf5c65c-a347-4d41-81c2-dc2d13ec534e",
   "metadata": {},
   "outputs": [],
   "source": [
    "from Environment import Environment\n",
    "from Agents import DDPGAgent\n",
    "from Engine import Engine"
   ]
  },
  {
   "cell_type": "code",
   "execution_count": null,
   "id": "12cc98f9-36f0-4d3b-8524-9a0c4130467e",
   "metadata": {},
   "outputs": [],
   "source": [
    "size = (8,8)\n",
    "goal_reward  = 1000\n",
    "fail_penalty = -100\n",
    "time_penalty = -1\n",
    "outOfBoundsList = [(x,1) for x in range(3)]\n",
    "for i in range(4):\n",
    "    outOfBoundsList += [(x,5-i) for x in range(4+i,8)]\n",
    "for i in range(3):\n",
    "    outOfBoundsList += [(x,7-i) for x in range(3-i)]\n",
    "goalList = [(7,6)]\n",
    "\n",
    "action_dim = 9\n",
    "\n",
    "tau = 0.00001\n",
    "gamma = .99\n",
    "\n",
    "env = Environment(size,goal_reward,fail_penalty,time_penalty,outOfBoundsList,goalList)\n",
    "agent = DDPGAgent(action_dim, tau = tau, gamma = gamma)\n",
    "engine = Engine(env,agent)\n",
    "\n",
    "env.display()"
   ]
  },
  {
   "cell_type": "code",
   "execution_count": null,
   "id": "783721f9-d1d6-4298-bfa4-8861b9832942",
   "metadata": {},
   "outputs": [],
   "source": [
    "metrics_vec = engine.train_vec(batch_size=10000000,trials=2000,explore_prob=1)"
   ]
  },
  {
   "cell_type": "code",
   "execution_count": null,
   "id": "6fd2c404-e8de-4cb3-82da-ad2bd25c4577",
   "metadata": {},
   "outputs": [],
   "source": [
    "metrics = engine.train(explore_prob=.2, limit = 20, batch_size = 10000, trials = 3000)"
   ]
  },
  {
   "cell_type": "code",
   "execution_count": null,
   "id": "a108894c-e610-41bd-b620-1d146dbced29",
   "metadata": {},
   "outputs": [],
   "source": [
    "engine.display_run((0,0,0,0),explore_prob=0)"
   ]
  }
 ],
 "metadata": {
  "kernelspec": {
   "display_name": "Python 3 (ipykernel)",
   "language": "python",
   "name": "python3"
  },
  "language_info": {
   "codemirror_mode": {
    "name": "ipython",
    "version": 3
   },
   "file_extension": ".py",
   "mimetype": "text/x-python",
   "name": "python",
   "nbconvert_exporter": "python",
   "pygments_lexer": "ipython3",
   "version": "3.10.12"
  }
 },
 "nbformat": 4,
 "nbformat_minor": 5
}
