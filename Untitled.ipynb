{
 "cells": [
  {
   "cell_type": "code",
   "execution_count": 15,
   "id": "25944429-8890-4e99-9569-548792653da4",
   "metadata": {},
   "outputs": [
    {
     "data": {
      "text/plain": [
       "array([[2, 2],\n",
       "       [0, 0],\n",
       "       [0, 0],\n",
       "       [0, 0],\n",
       "       [0, 0],\n",
       "       [0, 0],\n",
       "       [2, 2],\n",
       "       [2, 2],\n",
       "       [1, 1],\n",
       "       [0, 0]])"
      ]
     },
     "execution_count": 15,
     "metadata": {},
     "output_type": "execute_result"
    }
   ],
   "source": [
    "import numpy as np\n",
    "states = np.array([[0,0],[1,1],[2,2]])\n",
    "l = len(states)\n",
    "states[np.random.randint(l,size=10)]"
   ]
  },
  {
   "cell_type": "code",
   "execution_count": 23,
   "id": "0ab25867-b249-41e3-98d7-08e202b9c161",
   "metadata": {},
   "outputs": [
    {
     "data": {
      "text/plain": [
       "array([[0.18255896, 0.16181001, 0.18767189, 0.02136741, 0.00311111,\n",
       "        0.04488942, 0.14564476, 0.12241515, 0.1305313 ],\n",
       "       [0.05841161, 0.07864058, 0.03233353, 0.08661483, 0.16043178,\n",
       "        0.1202069 , 0.11125854, 0.18253313, 0.1695691 ]])"
      ]
     },
     "execution_count": 23,
     "metadata": {},
     "output_type": "execute_result"
    }
   ],
   "source": [
    "e = np.random.rand(2,9)\n",
    "e/e.sum(axis=1)[:,None]"
   ]
  },
  {
   "cell_type": "code",
   "execution_count": null,
   "id": "64c50019-4336-44d4-939b-83c10eaa33ee",
   "metadata": {},
   "outputs": [],
   "source": []
  }
 ],
 "metadata": {
  "kernelspec": {
   "display_name": "Python 3 (ipykernel)",
   "language": "python",
   "name": "python3"
  },
  "language_info": {
   "codemirror_mode": {
    "name": "ipython",
    "version": 3
   },
   "file_extension": ".py",
   "mimetype": "text/x-python",
   "name": "python",
   "nbconvert_exporter": "python",
   "pygments_lexer": "ipython3",
   "version": "3.10.12"
  }
 },
 "nbformat": 4,
 "nbformat_minor": 5
}
